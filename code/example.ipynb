{
 "cells": [
  {
   "cell_type": "code",
   "execution_count": 1,
   "id": "c3bca375",
   "metadata": {},
   "outputs": [],
   "source": [
    "import os\n",
    "import glob\n",
    "import numpy as np\n",
    "import pandas as pd\n",
    "import matplotlib.pyplot as plt\n",
    "from matplotlib.colors import Normalize\n",
    "from tqdm import tqdm\n",
    "\n",
    "import argparse\n",
    "import torch\n",
    "from torchvision import transforms\n",
    "from torchvision.datasets.folder import default_loader\n",
    "from PIL import Image"
   ]
  },
  {
   "cell_type": "code",
   "execution_count": 2,
   "id": "ce0b9811",
   "metadata": {},
   "outputs": [],
   "source": [
    "raw_data_dir = os.path.join(os.environ[\"DATA_DIR\"],\"raw\")"
   ]
  },
  {
   "cell_type": "code",
   "execution_count": 3,
   "id": "a35debac",
   "metadata": {},
   "outputs": [
    {
     "name": "stderr",
     "output_type": "stream",
     "text": [
      "100%|██████████| 9/9 [01:01<00:00,  6.79s/it]\n"
     ]
    }
   ],
   "source": [
    "games = pd.read_csv(os.path.join(raw_data_dir,\"games.csv\"))\n",
    "player_play = pd.read_csv(os.path.join(raw_data_dir,\"player_play.csv\"))\n",
    "players = pd.read_csv(os.path.join(raw_data_dir,\"players.csv\"))\n",
    "plays = pd.read_csv(os.path.join(raw_data_dir,\"plays.csv\"))\n",
    "\n",
    "# Were concatenating all the tracking files\n",
    "tracking = pd.concat([pd.read_csv(file) for file in tqdm(glob.glob(os.path.join(raw_data_dir,\"tracking_week_*.csv\")))], ignore_index=True)"
   ]
  },
  {
   "cell_type": "code",
   "execution_count": 4,
   "id": "eae7566c",
   "metadata": {},
   "outputs": [
    {
     "name": "stdout",
     "output_type": "stream",
     "text": [
      "tracking shape: (59327373, 18)\n",
      "player_play shape: (354727, 50)\n",
      "tracking nflId unique: 1697\n",
      "player_play nflId unique: 1697\n"
     ]
    }
   ],
   "source": [
    "print(\"tracking shape:\", tracking.shape)\n",
    "print(\"player_play shape:\", player_play.shape)\n",
    "print(\"tracking nflId unique:\", tracking['nflId'].nunique())\n",
    "print(\"player_play nflId unique:\", player_play['nflId'].nunique())\n"
   ]
  },
  {
   "cell_type": "code",
   "execution_count": 20,
   "id": "5e86db8a",
   "metadata": {},
   "outputs": [
    {
     "name": "stderr",
     "output_type": "stream",
     "text": [
      "/tmp/ipykernel_169733/4237328081.py:40: DeprecationWarning: DataFrameGroupBy.apply operated on the grouping columns. This behavior is deprecated, and in a future version of pandas the grouping columns will be excluded from the operation. Either pass `include_groups=False` to exclude the groupings or explicitly select the grouping columns after groupby to silence this warning.\n",
      "  routesRan_df.groupby([\"playId\",\"gameId\"]).apply(extract_routes_per_play).reset_index()\n"
     ]
    },
    {
     "data": {
      "text/html": [
       "<div>\n",
       "<style scoped>\n",
       "    .dataframe tbody tr th:only-of-type {\n",
       "        vertical-align: middle;\n",
       "    }\n",
       "\n",
       "    .dataframe tbody tr th {\n",
       "        vertical-align: top;\n",
       "    }\n",
       "\n",
       "    .dataframe thead th {\n",
       "        text-align: right;\n",
       "    }\n",
       "</style>\n",
       "<table border=\"1\" class=\"dataframe\">\n",
       "  <thead>\n",
       "    <tr style=\"text-align: right;\">\n",
       "      <th></th>\n",
       "      <th>playId</th>\n",
       "      <th>gameId</th>\n",
       "      <th>routeRanQB0</th>\n",
       "      <th>routeRanWR0</th>\n",
       "      <th>routeRanWR1</th>\n",
       "      <th>routeRanWR2</th>\n",
       "      <th>routeRanWR3</th>\n",
       "      <th>routeRanWR4</th>\n",
       "      <th>routeRanRB0</th>\n",
       "      <th>routeRanRB1</th>\n",
       "      <th>routeRanRB2</th>\n",
       "      <th>routeRanTE0</th>\n",
       "      <th>routeRanTE1</th>\n",
       "      <th>routeRanTE2</th>\n",
       "    </tr>\n",
       "  </thead>\n",
       "  <tbody>\n",
       "    <tr>\n",
       "      <th>0</th>\n",
       "      <td>54</td>\n",
       "      <td>2022092512</td>\n",
       "      <td>NA</td>\n",
       "      <td>CROSS</td>\n",
       "      <td>IN</td>\n",
       "      <td>OUT</td>\n",
       "      <td>NA</td>\n",
       "      <td>NA</td>\n",
       "      <td>NA</td>\n",
       "      <td>NA</td>\n",
       "      <td>NA</td>\n",
       "      <td>SLANT</td>\n",
       "      <td>NA</td>\n",
       "      <td>NA</td>\n",
       "    </tr>\n",
       "    <tr>\n",
       "      <th>1</th>\n",
       "      <td>54</td>\n",
       "      <td>2022100200</td>\n",
       "      <td>NA</td>\n",
       "      <td>GO</td>\n",
       "      <td>HITCH</td>\n",
       "      <td>SCREEN</td>\n",
       "      <td>NA</td>\n",
       "      <td>NA</td>\n",
       "      <td>ANGLE</td>\n",
       "      <td>NA</td>\n",
       "      <td>NA</td>\n",
       "      <td>NA</td>\n",
       "      <td>NA</td>\n",
       "      <td>NA</td>\n",
       "    </tr>\n",
       "    <tr>\n",
       "      <th>2</th>\n",
       "      <td>55</td>\n",
       "      <td>2022092510</td>\n",
       "      <td>NA</td>\n",
       "      <td>POST</td>\n",
       "      <td>CORNER</td>\n",
       "      <td>NA</td>\n",
       "      <td>NA</td>\n",
       "      <td>NA</td>\n",
       "      <td>FLAT</td>\n",
       "      <td>NA</td>\n",
       "      <td>NA</td>\n",
       "      <td>FLAT</td>\n",
       "      <td>IN</td>\n",
       "      <td>NA</td>\n",
       "    </tr>\n",
       "    <tr>\n",
       "      <th>3</th>\n",
       "      <td>55</td>\n",
       "      <td>2022100910</td>\n",
       "      <td>NA</td>\n",
       "      <td>CROSS</td>\n",
       "      <td>NA</td>\n",
       "      <td>NA</td>\n",
       "      <td>NA</td>\n",
       "      <td>NA</td>\n",
       "      <td>ANGLE</td>\n",
       "      <td>NA</td>\n",
       "      <td>NA</td>\n",
       "      <td>CROSS</td>\n",
       "      <td>CORNER</td>\n",
       "      <td>NA</td>\n",
       "    </tr>\n",
       "    <tr>\n",
       "      <th>4</th>\n",
       "      <td>55</td>\n",
       "      <td>2022100912</td>\n",
       "      <td>NA</td>\n",
       "      <td>GO</td>\n",
       "      <td>FLAT</td>\n",
       "      <td>SCREEN</td>\n",
       "      <td>NA</td>\n",
       "      <td>NA</td>\n",
       "      <td>ANGLE</td>\n",
       "      <td>NA</td>\n",
       "      <td>NA</td>\n",
       "      <td>NA</td>\n",
       "      <td>NA</td>\n",
       "      <td>NA</td>\n",
       "    </tr>\n",
       "    <tr>\n",
       "      <th>...</th>\n",
       "      <td>...</td>\n",
       "      <td>...</td>\n",
       "      <td>...</td>\n",
       "      <td>...</td>\n",
       "      <td>...</td>\n",
       "      <td>...</td>\n",
       "      <td>...</td>\n",
       "      <td>...</td>\n",
       "      <td>...</td>\n",
       "      <td>...</td>\n",
       "      <td>...</td>\n",
       "      <td>...</td>\n",
       "      <td>...</td>\n",
       "      <td>...</td>\n",
       "    </tr>\n",
       "    <tr>\n",
       "      <th>9308</th>\n",
       "      <td>4993</td>\n",
       "      <td>2022091103</td>\n",
       "      <td>NA</td>\n",
       "      <td>GO</td>\n",
       "      <td>HITCH</td>\n",
       "      <td>HITCH</td>\n",
       "      <td>NA</td>\n",
       "      <td>NA</td>\n",
       "      <td>ANGLE</td>\n",
       "      <td>NA</td>\n",
       "      <td>NA</td>\n",
       "      <td>GO</td>\n",
       "      <td>NA</td>\n",
       "      <td>NA</td>\n",
       "    </tr>\n",
       "    <tr>\n",
       "      <th>9309</th>\n",
       "      <td>5015</td>\n",
       "      <td>2022091103</td>\n",
       "      <td>NA</td>\n",
       "      <td>POST</td>\n",
       "      <td>HITCH</td>\n",
       "      <td>HITCH</td>\n",
       "      <td>NA</td>\n",
       "      <td>NA</td>\n",
       "      <td>NA</td>\n",
       "      <td>NA</td>\n",
       "      <td>NA</td>\n",
       "      <td>CROSS</td>\n",
       "      <td>NA</td>\n",
       "      <td>NA</td>\n",
       "    </tr>\n",
       "    <tr>\n",
       "      <th>9310</th>\n",
       "      <td>5039</td>\n",
       "      <td>2022091103</td>\n",
       "      <td>NA</td>\n",
       "      <td>HITCH</td>\n",
       "      <td>GO</td>\n",
       "      <td>OUT</td>\n",
       "      <td>NA</td>\n",
       "      <td>NA</td>\n",
       "      <td>OUT</td>\n",
       "      <td>NA</td>\n",
       "      <td>NA</td>\n",
       "      <td>GO</td>\n",
       "      <td>NA</td>\n",
       "      <td>NA</td>\n",
       "    </tr>\n",
       "    <tr>\n",
       "      <th>9311</th>\n",
       "      <td>5074</td>\n",
       "      <td>2022091103</td>\n",
       "      <td>NA</td>\n",
       "      <td>GO</td>\n",
       "      <td>SLANT</td>\n",
       "      <td>GO</td>\n",
       "      <td>NA</td>\n",
       "      <td>NA</td>\n",
       "      <td>NA</td>\n",
       "      <td>NA</td>\n",
       "      <td>NA</td>\n",
       "      <td>SLANT</td>\n",
       "      <td>NA</td>\n",
       "      <td>NA</td>\n",
       "    </tr>\n",
       "    <tr>\n",
       "      <th>9312</th>\n",
       "      <td>5096</td>\n",
       "      <td>2022091103</td>\n",
       "      <td>NA</td>\n",
       "      <td>HITCH</td>\n",
       "      <td>GO</td>\n",
       "      <td>GO</td>\n",
       "      <td>NA</td>\n",
       "      <td>NA</td>\n",
       "      <td>NA</td>\n",
       "      <td>NA</td>\n",
       "      <td>NA</td>\n",
       "      <td>SLANT</td>\n",
       "      <td>NA</td>\n",
       "      <td>NA</td>\n",
       "    </tr>\n",
       "  </tbody>\n",
       "</table>\n",
       "<p>9313 rows × 14 columns</p>\n",
       "</div>"
      ],
      "text/plain": [
       "      playId      gameId routeRanQB0 routeRanWR0 routeRanWR1 routeRanWR2  \\\n",
       "0         54  2022092512          NA       CROSS          IN         OUT   \n",
       "1         54  2022100200          NA          GO       HITCH      SCREEN   \n",
       "2         55  2022092510          NA        POST      CORNER          NA   \n",
       "3         55  2022100910          NA       CROSS          NA          NA   \n",
       "4         55  2022100912          NA          GO        FLAT      SCREEN   \n",
       "...      ...         ...         ...         ...         ...         ...   \n",
       "9308    4993  2022091103          NA          GO       HITCH       HITCH   \n",
       "9309    5015  2022091103          NA        POST       HITCH       HITCH   \n",
       "9310    5039  2022091103          NA       HITCH          GO         OUT   \n",
       "9311    5074  2022091103          NA          GO       SLANT          GO   \n",
       "9312    5096  2022091103          NA       HITCH          GO          GO   \n",
       "\n",
       "     routeRanWR3 routeRanWR4 routeRanRB0 routeRanRB1 routeRanRB2 routeRanTE0  \\\n",
       "0             NA          NA          NA          NA          NA       SLANT   \n",
       "1             NA          NA       ANGLE          NA          NA          NA   \n",
       "2             NA          NA        FLAT          NA          NA        FLAT   \n",
       "3             NA          NA       ANGLE          NA          NA       CROSS   \n",
       "4             NA          NA       ANGLE          NA          NA          NA   \n",
       "...          ...         ...         ...         ...         ...         ...   \n",
       "9308          NA          NA       ANGLE          NA          NA          GO   \n",
       "9309          NA          NA          NA          NA          NA       CROSS   \n",
       "9310          NA          NA         OUT          NA          NA          GO   \n",
       "9311          NA          NA          NA          NA          NA       SLANT   \n",
       "9312          NA          NA          NA          NA          NA       SLANT   \n",
       "\n",
       "     routeRanTE1 routeRanTE2  \n",
       "0             NA          NA  \n",
       "1             NA          NA  \n",
       "2             IN          NA  \n",
       "3         CORNER          NA  \n",
       "4             NA          NA  \n",
       "...          ...         ...  \n",
       "9308          NA          NA  \n",
       "9309          NA          NA  \n",
       "9310          NA          NA  \n",
       "9311          NA          NA  \n",
       "9312          NA          NA  \n",
       "\n",
       "[9313 rows x 14 columns]"
      ]
     },
     "execution_count": 20,
     "metadata": {},
     "output_type": "execute_result"
    }
   ],
   "source": [
    "# Get the position, x and route ran\n",
    "routesRan_df = pd.merge(\n",
    "    player_play[player_play[\"wasRunningRoute\"] == 1],\n",
    "    tracking[tracking[\"event\"] == \"ball_snap\"],\n",
    "    how=\"left\",\n",
    "    on=[\"playId\", \"nflId\",\"gameId\"],\n",
    ")\n",
    "routesRan_df = pd.merge(\n",
    "    routesRan_df, players[[\"nflId\", \"position\"]], how=\"left\", on=\"nflId\"\n",
    ")\n",
    "\n",
    "\n",
    "all_keys = [\n",
    "    \"routeRanQB0\", \"routeRanWR0\", \"routeRanWR1\", \"routeRanWR2\", \"routeRanWR3\", \"routeRanWR4\",\n",
    "    \"routeRanRB0\", \"routeRanRB1\", \"routeRanRB2\",\n",
    "    \"routeRanTE0\", \"routeRanTE1\", \"routeRanTE2\"\n",
    "]\n",
    "\n",
    "def extract_routes_per_play(group):\n",
    "    group = group.sort_values(by='x')\n",
    "    route_data = {key: \"NA\" for key in all_keys}  # Initialize with \"NA\"\n",
    "    position_counter = {'QB': 0, 'WR': 0, 'RB': 0, 'TE': 0}\n",
    "\n",
    "    for _, row in group.iterrows():\n",
    "        pos = row['position']\n",
    "        if pos not in position_counter:\n",
    "            continue  # skip unexpected positions\n",
    "        \n",
    "        idx = position_counter[pos]\n",
    "        key = f\"routeRan{pos}{idx}\"\n",
    "        if key in route_data:  # only fill valid keys\n",
    "            route_data[key] = row['routeRan']\n",
    "            position_counter[pos] += 1\n",
    "\n",
    "    return pd.Series(route_data)\n",
    "\n",
    "\n",
    "# Apply per play\n",
    "routesRan_play_df = (\n",
    "    routesRan_df.groupby([\"playId\",\"gameId\"]).apply(extract_routes_per_play).reset_index()\n",
    ")\n",
    "routesRan_play_df"
   ]
  },
  {
   "cell_type": "code",
   "execution_count": 6,
   "id": "42822416",
   "metadata": {},
   "outputs": [
    {
     "name": "stderr",
     "output_type": "stream",
     "text": [
      "100%|██████████| 16124/16124 [00:09<00:00, 1651.66it/s]"
     ]
    },
    {
     "name": "stdout",
     "output_type": "stream",
     "text": [
      "1\n",
      "5\n",
      "3\n",
      "3\n"
     ]
    },
    {
     "name": "stderr",
     "output_type": "stream",
     "text": [
      "\n"
     ]
    }
   ],
   "source": [
    "local_features = pd.merge(player_play, players, on='nflId', how='left')\n",
    "\n",
    "\n",
    "# groupby playId\n",
    "list_local_feature = local_features.groupby([\"playId\",\"gameId\"])\n",
    "\n",
    "# Check if wasRunningRoute get\n",
    "qb = []\n",
    "wr = []\n",
    "rb = []\n",
    "te = []\n",
    "for _, features in tqdm(list_local_feature):\n",
    "    qb.append(((features['wasRunningRoute'] == 1)&(features['position']==\"QB\")).sum())\n",
    "    wr.append(((features['wasRunningRoute'] == 1)&(features['position']==\"WR\")).sum())\n",
    "    rb.append(((features['wasRunningRoute'] == 1)&(features['position']==\"RB\")).sum())\n",
    "    te.append(((features['wasRunningRoute'] == 1)&(features['position']==\"TE\")).sum())\n",
    "    \n",
    "print(max(qb))\n",
    "print(max(wr))\n",
    "print(max(rb))\n",
    "print(max(te))"
   ]
  },
  {
   "cell_type": "code",
   "execution_count": null,
   "id": "9bd4d68e",
   "metadata": {},
   "outputs": [],
   "source": []
  },
  {
   "cell_type": "code",
   "execution_count": 7,
   "id": "67043082",
   "metadata": {},
   "outputs": [],
   "source": [
    "frame_list = [\n",
    "    tracking_frames\n",
    "    for _, tracking_plays in tracking.groupby(\"playId\")\n",
    "    for _, tracking_frames in tracking_plays.groupby(\"playId\")\n",
    "]"
   ]
  },
  {
   "cell_type": "code",
   "execution_count": 8,
   "id": "ff866edd",
   "metadata": {},
   "outputs": [
    {
     "data": {
      "text/plain": [
       "-11.789999961853"
      ]
     },
     "execution_count": 8,
     "metadata": {},
     "output_type": "execute_result"
    }
   ],
   "source": [
    "min(tracking[\"x\"])\n"
   ]
  },
  {
   "cell_type": "code",
   "execution_count": 9,
   "id": "19546a3b",
   "metadata": {},
   "outputs": [
    {
     "data": {
      "text/plain": [
       "71.7399978637695"
      ]
     },
     "execution_count": 9,
     "metadata": {},
     "output_type": "execute_result"
    }
   ],
   "source": [
    "max(tracking[\"y\"])"
   ]
  },
  {
   "cell_type": "code",
   "execution_count": 10,
   "id": "4300b340",
   "metadata": {},
   "outputs": [
    {
     "data": {
      "text/plain": [
       "-18.3600006103516"
      ]
     },
     "execution_count": 10,
     "metadata": {},
     "output_type": "execute_result"
    }
   ],
   "source": [
    "min(tracking[\"y\"])"
   ]
  }
 ],
 "metadata": {
  "kernelspec": {
   "display_name": "torchenv",
   "language": "python",
   "name": "python3"
  },
  "language_info": {
   "codemirror_mode": {
    "name": "ipython",
    "version": 3
   },
   "file_extension": ".py",
   "mimetype": "text/x-python",
   "name": "python",
   "nbconvert_exporter": "python",
   "pygments_lexer": "ipython3",
   "version": "3.10.16"
  }
 },
 "nbformat": 4,
 "nbformat_minor": 5
}
